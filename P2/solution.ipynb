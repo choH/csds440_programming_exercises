{
 "cells": [
  {
   "cell_type": "markdown",
   "metadata": {},
   "source": [
    "# Problem(a)"
   ]
  },
  {
   "cell_type": "markdown",
   "metadata": {},
   "source": [
    "Naïve Bayes"
   ]
  },
  {
   "cell_type": "raw",
   "metadata": {},
   "source": [
    "Spam 1 3 0.1\n",
    "===============Final report=================\n",
    "Accuracy:0.605 0.000\n",
    "Precision:0.764 0.000\n",
    "Recall:0.385 0.000\n",
    "Area under ROC 0.423"
   ]
  },
  {
   "cell_type": "raw",
   "metadata": {},
   "source": [
    "Volcanoes 1 3 0.1\n",
    "===============Final report=================\n",
    "Accuracy:0.630 0.000\n",
    "Precision:0.463 0.000\n",
    "Recall:0.817 0.000\n",
    "Area under ROC 0.500"
   ]
  },
  {
   "cell_type": "raw",
   "metadata": {},
   "source": [
    "Voting 1 3 0.1\n",
    "===============Final report=================\n",
    "Accuracy:0.982 0.000\n",
    "Precision:0.990 0.000\n",
    "Recall:0.969 0.000\n",
    "Area under ROC 0.911"
   ]
  },
  {
   "cell_type": "markdown",
   "metadata": {},
   "source": [
    "Logistic Regression"
   ]
  },
  {
   "cell_type": "raw",
   "metadata": {},
   "source": [
    "Spam 1 0.1\n",
    "===============Final report=================\n",
    "Accuracy:0.541 0.000\n",
    "Precision:0.540 0.000\n",
    "Recall:0.987 0.000\n",
    "Area under ROC 0.655"
   ]
  },
  {
   "cell_type": "raw",
   "metadata": {},
   "source": [
    "Volcanoes 1 0.1\n",
    "===============Final report=================\n",
    "Accuracy:0.688 0.000\n",
    "Precision:0.514 0.000\n",
    "Recall:0.893 0.000\n",
    "Area under ROC 0.337"
   ]
  },
  {
   "cell_type": "raw",
   "metadata": {},
   "source": [
    "Voting 1 0.1\n",
    "===============Final report=================\n",
    "Accuracy:0.991 0.000\n",
    "Precision:1.000 0.000\n",
    "Recall:0.980 0.000\n",
    "Area under ROC 0.996"
   ]
  },
  {
   "cell_type": "markdown",
   "metadata": {
    "pycharm": {
     "name": "#%%\n"
    }
   },
   "source": [
    "# Problem(b)"
   ]
  },
  {
   "cell_type": "markdown",
   "metadata": {},
   "source": [
    "Now we'll check the effort of λ\n",
    "\n",
    "next 3 cell will show λ = 0, 0.01, 0.1, 1, let's take the volcanoes dataset as an example\n"
   ]
  },
  {
   "cell_type": "code",
   "execution_count": 8,
   "metadata": {
    "pycharm": {
     "name": "#%%\n"
    }
   },
   "outputs": [],
   "source": []
  },
  {
   "cell_type": "code",
   "execution_count": 10,
   "metadata": {},
   "outputs": [
    {
     "name": "stdout",
     "output_type": "stream",
     "text": [
      "No handles with labels found to put in legend.\r\n",
      "Figure(640x480)\r\n",
      "===============Final report=================\r\n",
      "Accuracy:0.727 0.000\r\n",
      "Precision:0.555 0.000\r\n",
      "Recall:0.854 0.000\r\n",
      "Area under ROC 0.368\r\n"
     ]
    }
   ],
   "source": [
    "!python logreg.py /Users/victor/Desktop/CWRU/CSDS440\\ Machine\\ Learning/programming1/440data/volcanoes 1 0"
   ]
  },
  {
   "cell_type": "raw",
   "metadata": {
    "pycharm": {
     "name": "#%%\n"
    }
   },
   "source": [
    "volcanoes 0 0.01\n",
    "===============Fold report==================\n",
    "Accuracy:0.716\n",
    "Precision:0.565\n",
    "Recall:0.808\n",
    "===============Fold report==================\n",
    "Accuracy:0.679\n",
    "Precision:0.487\n",
    "Recall:0.803\n",
    "===============Fold report==================\n",
    "Accuracy:0.646\n",
    "Precision:0.484\n",
    "Recall:0.899\n",
    "===============Fold report==================\n",
    "Accuracy:0.709\n",
    "Precision:0.944\n",
    "Recall:0.116\n",
    "===============Fold report==================\n",
    "Accuracy:0.706\n",
    "Precision:0.525\n",
    "Recall:0.895\n",
    "===============Final report=================\n",
    "Accuracy:0.691 0.026\n",
    "Precision:0.601 0.174\n",
    "Recall:0.704 0.297\n",
    "Area under ROC 0.433"
   ]
  },
  {
   "cell_type": "raw",
   "metadata": {
    "pycharm": {
     "name": "#%%\n"
    }
   },
   "source": [
    "volcanoes 0 0.1\n",
    "===============Fold report==================\n",
    "Accuracy:0.649\n",
    "Precision:0.498\n",
    "Recall:0.840\n",
    "===============Fold report==================\n",
    "Accuracy:0.787\n",
    "Precision:0.636\n",
    "Recall:0.715\n",
    "===============Fold report==================\n",
    "Accuracy:0.798\n",
    "Precision:0.915\n",
    "Recall:0.436\n",
    "===============Fold report==================\n",
    "Accuracy:0.760\n",
    "Precision:0.649\n",
    "Recall:0.582\n",
    "===============Fold report==================\n",
    "Accuracy:0.798\n",
    "Precision:0.827\n",
    "Recall:0.469\n",
    "===============Final report=================\n",
    "Accuracy:0.758 0.057\n",
    "Precision:0.705 0.148\n",
    "Recall:0.608 0.152\n",
    "Area under ROC 0.528"
   ]
  },
  {
   "cell_type": "raw",
   "metadata": {
    "pycharm": {
     "name": "#%%\n"
    }
   },
   "source": [
    "volcanoes 0 1\n",
    "===============Fold report==================\n",
    "Accuracy:0.796\n",
    "Precision:0.715\n",
    "Recall:0.692\n",
    "===============Fold report==================\n",
    "Accuracy:0.756\n",
    "Precision:0.967\n",
    "Recall:0.212\n",
    "===============Fold report==================\n",
    "Accuracy:0.778\n",
    "Precision:0.652\n",
    "Recall:0.718\n",
    "===============Fold report==================\n",
    "Accuracy:0.655\n",
    "Precision:0.484\n",
    "Recall:0.829\n",
    "===============Fold report==================\n",
    "Accuracy:0.798\n",
    "Precision:0.835\n",
    "Recall:0.462\n",
    "===============Final report=================\n",
    "Accuracy:0.757 0.053\n",
    "Precision:0.731 0.164\n",
    "Recall:0.582 0.221\n",
    "Area under ROC 0.505"
   ]
  },
  {
   "cell_type": "code",
   "execution_count": null,
   "metadata": {},
   "outputs": [],
   "source": []
  },
  {
   "cell_type": "markdown",
   "metadata": {},
   "source": [
    "as we can see, when λ is rising, accuracy is increasing at first and then decreasing"
   ]
  },
  {
   "cell_type": "markdown",
   "metadata": {},
   "source": [
    "## Problem(c)\n",
    "As we go through the experiment, what came to us is how parameter n-bins make differences to Accuracy.Assume that when n-bins is increasing, the classifier can keep more information and make better decisions. Or it's posible that more number of bins may cause over-fitting problem.So we try to figure out that."
   ]
  },
  {
   "cell_type": "raw",
   "metadata": {},
   "source": [
    "spam 1 3 -1\n",
    "===============Final report=================\n",
    "Accuracy:0.583 0.000\n",
    "Precision:0.768 0.000\n",
    "Recall:0.371 0.000\n",
    "Area under ROC 0.434"
   ]
  },
  {
   "cell_type": "raw",
   "metadata": {
    "pycharm": {
     "is_executing": true,
     "name": "#%%\n"
    }
   },
   "source": [
    "spam 1 4 -1\n",
    "===============Final report=================\n",
    "Accuracy:0.586 0.000\n",
    "Precision:0.828 0.000\n",
    "Recall:0.333 0.000\n",
    "Area under ROC 0.441"
   ]
  },
  {
   "cell_type": "raw",
   "metadata": {
    "pycharm": {
     "name": "#%%\n"
    }
   },
   "source": [
    "spam 1 6 -1\n",
    "===============Final report=================\n",
    "Accuracy:0.614 0.000\n",
    "Precision:0.805 0.000\n",
    "Recall:0.414 0.000\n",
    "Area under ROC 0.437"
   ]
  },
  {
   "cell_type": "raw",
   "metadata": {},
   "source": [
    "spam 1 8 -1\n",
    "===============Final report=================\n",
    "Accuracy:0.609 0.000\n",
    "Precision:0.803 0.000\n",
    "Recall:0.405 0.000\n",
    "Area under ROC 0.460"
   ]
  },
  {
   "cell_type": "raw",
   "metadata": {
    "pycharm": {
     "is_executing": true,
     "name": "#%%\n"
    }
   },
   "source": [
    "spam 1 10 -1\n",
    "===============Final report=================\n",
    "Accuracy:0.619 0.000\n",
    "Precision:0.833 0.000\n",
    "Recall:0.404 0.000\n",
    "Area under ROC 0.451"
   ]
  },
  {
   "cell_type": "raw",
   "metadata": {},
   "source": [
    "spam 1 11 -1\n",
    "===============Final report=================\n",
    "Accuracy:0.616 0.000\n",
    "Precision:0.831 0.000\n",
    "Recall:0.399 0.000\n",
    "Area under ROC 0.450"
   ]
  },
  {
   "cell_type": "raw",
   "metadata": {},
   "source": [
    "spam 1 12 -1\n",
    "===============Final report=================\n",
    "Accuracy:0.609 0.000\n",
    "Precision:0.801 0.000\n",
    "Recall:0.405 0.000\n",
    "Area under ROC 0.463"
   ]
  },
  {
   "cell_type": "raw",
   "metadata": {},
   "source": [
    "spam 1 14 -1\n",
    "===============Final report=================\n",
    "Accuracy:0.618 0.000\n",
    "Precision:0.828 0.000\n",
    "Recall:0.406 0.000\n",
    "Area under ROC 0.466"
   ]
  },
  {
   "cell_type": "raw",
   "metadata": {
    "pycharm": {
     "is_executing": true,
     "name": "#%%\n"
    },
    "scrolled": true
   },
   "source": [
    "spam 1 16 -1\n",
    "===============Final report=================\n",
    "Accuracy:0.610 0.000\n",
    "Precision:0.799 0.000\n",
    "Recall:0.410 0.000\n",
    "Area under ROC 0.459"
   ]
  },
  {
   "cell_type": "raw",
   "metadata": {},
   "source": [
    "spam 1 18 -1\n",
    "===============Final report=================\n",
    "Accuracy:0.612 0.000\n",
    "Precision:0.816 0.000\n",
    "Recall:0.401 0.000\n",
    "Area under ROC 0.458"
   ]
  },
  {
   "cell_type": "raw",
   "metadata": {},
   "source": [
    "spam 1 20 -1\n",
    "===============Final report=================\n",
    "Accuracy:0.618 0.000\n",
    "Precision:0.824 0.000\n",
    "Recall:0.408 0.000\n",
    "Area under ROC 0.470"
   ]
  },
  {
   "cell_type": "raw",
   "metadata": {},
   "source": [
    "spam 1 32 -1\n",
    "===============Final report=================\n",
    "Accuracy:0.615 0.000\n",
    "Precision:0.817 0.000\n",
    "Recall:0.408 0.000\n",
    "Area under ROC 0.501"
   ]
  },
  {
   "cell_type": "raw",
   "metadata": {},
   "source": [
    "spam 1 48 -1\n",
    "===============Final report=================\n",
    "Accuracy:0.644 0.000\n",
    "Precision:0.848 0.000\n",
    "Recall:0.447 0.000\n",
    "Area under ROC 0.500"
   ]
  },
  {
   "cell_type": "raw",
   "metadata": {},
   "source": [
    "spam 1 60 -1\n",
    "===============Final report=================\n",
    "Accuracy:0.634 0.000\n",
    "Precision:0.869 0.000\n",
    "Recall:0.413 0.000\n",
    "Area under ROC 0.500"
   ]
  },
  {
   "cell_type": "raw",
   "metadata": {},
   "source": [
    "spam 1 72 -1\n",
    "===============Final report=================\n",
    "Accuracy:0.653 0.000\n",
    "Precision:0.849 0.000\n",
    "Recall:0.466 0.000\n",
    "Area under ROC 0.500"
   ]
  },
  {
   "cell_type": "code",
   "execution_count": 39,
   "metadata": {
    "pycharm": {
     "is_executing": true,
     "name": "#%%\n"
    }
   },
   "outputs": [
    {
     "data": {
      "text/plain": [
       "[<matplotlib.lines.Line2D at 0x11a279d0>]"
      ]
     },
     "execution_count": 39,
     "metadata": {},
     "output_type": "execute_result"
    },
    {
     "data": {
      "image/png": "[encoded data removed]",
      "text/plain": [
       "<Figure size 432x288 with 1 Axes>"
      ]
     },
     "metadata": {
      "needs_background": "light"
     },
     "output_type": "display_data"
    }
   ],
   "source": [
    "import numpy as np\n",
    "import matplotlib.pyplot as plt\n",
    "n=np.asarray([3,4,6,8,10,11,12,14,16,18,20,32,48,60,72])\n",
    "accuracy=np.asarray([0.583,0.586,0.614,0.609,0.618,0.619,0.616,0.609,0.610,0.612,0.618,0.615,0.644,0.634,0.653])\n",
    "plt.xlabel(\"n-bins\")\n",
    "plt.ylabel(\"Accuracy\")\n",
    "plt.plot(n,accuracy)"
   ]
  },
  {
   "cell_type": "markdown",
   "metadata": {},
   "source": [
    "#### Analysis\n",
    "When putting all these data together, accuracy is keep increasing when n-bins go up to 72. So in spam dataset,I can make the conclusion that, instead of over-fit, naive bayes classifier can get more information as the number of bins increasing in certain limits."
   ]
  },
  {
   "cell_type": "code",
   "execution_count": null,
   "metadata": {},
   "outputs": [],
   "source": []
  }
 ],
 "metadata": {
  "kernelspec": {
   "display_name": "Python 3",
   "language": "python",
   "name": "python3"
  },
  "language_info": {
   "codemirror_mode": {
    "name": "ipython",
    "version": 3
   },
   "file_extension": ".py",
   "mimetype": "text/x-python",
   "name": "python",
   "nbconvert_exporter": "python",
   "pygments_lexer": "ipython3",
   "version": "3.7.6"
  }
 },
 "nbformat": 4,
 "nbformat_minor": 1
}
