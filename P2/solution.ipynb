{
 "cells": [
  {
   "cell_type": "markdown",
   "metadata": {},
   "source": [
    "# Project 2 - Jupyter Notebook Report\n",
    "\n",
    "> Shaochen (Henry) ZHONG `sxz517`   \n",
    "> Mingyang TIE `mxt497`"
   ]
  },
  {
   "cell_type": "markdown",
   "metadata": {},
   "source": [
    "# Problem(a)"
   ]
  },
  {
   "cell_type": "markdown",
   "metadata": {},
   "source": [
    "Naïve Bayes"
   ]
  },
  {
   "cell_type": "raw",
   "metadata": {},
   "source": [
    "Spam 1 3 0.1\n",
    "===============Final report=================\n",
    "Accuracy:0.605 0.000\n",
    "Precision:0.764 0.000\n",
    "Recall:0.385 0.000\n",
    "Area under ROC 0.423"
   ]
  },
  {
   "cell_type": "raw",
   "metadata": {},
   "source": [
    "Volcanoes 1 3 0.1\n",
    "===============Final report=================\n",
    "Accuracy:0.630 0.000\n",
    "Precision:0.463 0.000\n",
    "Recall:0.817 0.000\n",
    "Area under ROC 0.500"
   ]
  },
  {
   "cell_type": "raw",
   "metadata": {},
   "source": [
    "Voting 1 3 0.1\n",
    "===============Final report=================\n",
    "Accuracy:0.982 0.000\n",
    "Precision:0.990 0.000\n",
    "Recall:0.969 0.000\n",
    "Area under ROC 0.911"
   ]
  },
  {
   "cell_type": "markdown",
   "metadata": {},
   "source": [
    "Logistic Regression"
   ]
  },
  {
   "cell_type": "raw",
   "metadata": {},
   "source": [
    "Spam 1 0.1\n",
    "===============Final report=================\n",
    "Accuracy:0.541 0.000\n",
    "Precision:0.540 0.000\n",
    "Recall:0.987 0.000\n",
    "Area under ROC 0.655"
   ]
  },
  {
   "cell_type": "raw",
   "metadata": {},
   "source": [
    "Volcanoes 1 0.1\n",
    "===============Final report=================\n",
    "Accuracy:0.688 0.000\n",
    "Precision:0.514 0.000\n",
    "Recall:0.893 0.000\n",
    "Area under ROC 0.337"
   ]
  },
  {
   "cell_type": "raw",
   "metadata": {},
   "source": [
    "Voting 1 0.1\n",
    "===============Final report=================\n",
    "Accuracy:0.991 0.000\n",
    "Precision:1.000 0.000\n",
    "Recall:0.980 0.000\n",
    "Area under ROC 0.996"
   ]
  },
  {
   "cell_type": "markdown",
   "metadata": {
    "pycharm": {
     "name": "#%%\n"
    }
   },
   "source": [
    "# Problem(b)"
   ]
  },
  {
   "cell_type": "markdown",
   "metadata": {},
   "source": [
    "Now we'll check the effort of λ\n",
    "\n",
    "next 3 cell will show λ = 0, 0.01, 0.1, 1, let's take the volcanoes dataset as an example\n"
   ]
  },
  {
   "cell_type": "raw",
   "metadata": {
    "pycharm": {
     "name": "#%%\n"
    }
   },
   "source": [
    "volcanoes 0 0\n",
    "===============Fold report==================\n",
    "Accuracy:0.734\n",
    "Precision:0.951\n",
    "Recall:0.250\n",
    "===============Fold report==================\n",
    "Accuracy:0.697\n",
    "Precision:1.000\n",
    "Recall:0.015\n",
    "===============Fold report==================\n",
    "Accuracy:0.706\n",
    "Precision:1.000\n",
    "Recall:0.121\n",
    "===============Fold report==================\n",
    "Accuracy:0.751\n",
    "Precision:0.973\n",
    "Recall:0.247\n",
    "===============Fold report==================\n",
    "Accuracy:0.706\n",
    "Precision:0.525\n",
    "Recall:0.895\n",
    "===============Final report=================\n",
    "Accuracy:0.719 0.020\n",
    "Precision:0.890 0.183\n",
    "Recall:0.305 0.308\n",
    "Area under ROC 0.526"
   ]
  },
  {
   "cell_type": "raw",
   "metadata": {
    "pycharm": {
     "name": "#%%\n"
    }
   },
   "source": [
    "volcanoes 0 0.01\n",
    "===============Fold report==================\n",
    "Accuracy:0.716\n",
    "Precision:0.565\n",
    "Recall:0.808\n",
    "===============Fold report==================\n",
    "Accuracy:0.679\n",
    "Precision:0.487\n",
    "Recall:0.803\n",
    "===============Fold report==================\n",
    "Accuracy:0.646\n",
    "Precision:0.484\n",
    "Recall:0.899\n",
    "===============Fold report==================\n",
    "Accuracy:0.709\n",
    "Precision:0.944\n",
    "Recall:0.116\n",
    "===============Fold report==================\n",
    "Accuracy:0.706\n",
    "Precision:0.525\n",
    "Recall:0.895\n",
    "===============Final report=================\n",
    "Accuracy:0.691 0.026\n",
    "Precision:0.601 0.174\n",
    "Recall:0.704 0.297\n",
    "Area under ROC 0.433"
   ]
  },
  {
   "cell_type": "raw",
   "metadata": {
    "pycharm": {
     "name": "#%%\n"
    }
   },
   "source": [
    "volcanoes 0 0.1\n",
    "===============Fold report==================\n",
    "Accuracy:0.649\n",
    "Precision:0.498\n",
    "Recall:0.840\n",
    "===============Fold report==================\n",
    "Accuracy:0.787\n",
    "Precision:0.636\n",
    "Recall:0.715\n",
    "===============Fold report==================\n",
    "Accuracy:0.798\n",
    "Precision:0.915\n",
    "Recall:0.436\n",
    "===============Fold report==================\n",
    "Accuracy:0.760\n",
    "Precision:0.649\n",
    "Recall:0.582\n",
    "===============Fold report==================\n",
    "Accuracy:0.798\n",
    "Precision:0.827\n",
    "Recall:0.469\n",
    "===============Final report=================\n",
    "Accuracy:0.758 0.057\n",
    "Precision:0.705 0.148\n",
    "Recall:0.608 0.152\n",
    "Area under ROC 0.528"
   ]
  },
  {
   "cell_type": "raw",
   "metadata": {
    "pycharm": {
     "name": "#%%\n"
    }
   },
   "source": [
    "volcanoes 0 1\n",
    "===============Fold report==================\n",
    "Accuracy:0.796\n",
    "Precision:0.715\n",
    "Recall:0.692\n",
    "===============Fold report==================\n",
    "Accuracy:0.756\n",
    "Precision:0.967\n",
    "Recall:0.212\n",
    "===============Fold report==================\n",
    "Accuracy:0.778\n",
    "Precision:0.652\n",
    "Recall:0.718\n",
    "===============Fold report==================\n",
    "Accuracy:0.655\n",
    "Precision:0.484\n",
    "Recall:0.829\n",
    "===============Fold report==================\n",
    "Accuracy:0.798\n",
    "Precision:0.835\n",
    "Recall:0.462\n",
    "===============Final report=================\n",
    "Accuracy:0.757 0.053\n",
    "Precision:0.731 0.164\n",
    "Recall:0.582 0.221\n",
    "Area under ROC 0.505"
   ]
  }
 ],
 "metadata": {
  "kernelspec": {
   "display_name": "Python 3",
   "language": "python",
   "name": "python3"
  },
  "language_info": {
   "codemirror_mode": {
    "name": "ipython",
    "version": 3
   },
   "file_extension": ".py",
   "mimetype": "text/x-python",
   "name": "python",
   "nbconvert_exporter": "python",
   "pygments_lexer": "ipython3",
   "version": "3.7.6"
  }
 },
 "nbformat": 4,
 "nbformat_minor": 1
}
