{
 "cells": [
  {
   "cell_type": "markdown",
   "metadata": {},
   "source": [
    "# (a)"
   ]
  },
  {
   "cell_type": "markdown",
   "metadata": {},
   "source": [
    "## spam\n",
    "\n",
    "### gain\n",
    "* depth 1\n",
    "```\n",
    "Accuracy: 0.664\n",
    "Size: 7\n",
    "Maximum Depth: 1\n",
    "First Feature: <OS>\n",
    "```\n",
    "* depth 2\n",
    "```\n",
    "Accuracy: 0.678\n",
    "Size: 19\n",
    "Maximum Depth: 2\n",
    "First Feature: <OS>\n",
    "```\n",
    "* depth 3\n",
    "```\n",
    "Accuracy: 0.657\n",
    "Size: 43\n",
    "Maximum Depth: 3\n",
    "First Feature: <OS>\n",
    "```\n",
    "* depth 4\n",
    "```\n",
    "Accuracy: 0.638\n",
    "Size: 85\n",
    "Maximum Depth: 4\n",
    "First Feature: <OS>\n",
    "```\n",
    "* depth 5\n",
    "```\n",
    "Accuracy: 0.637\n",
    "Size: 149\n",
    "Maximum Depth: 5\n",
    "First Feature: <OS>\n",
    "```\n",
    "\n",
    "### gain ratio\n",
    "* depth 1\n",
    "```\n",
    "Accuracy: 0.627\n",
    "Size: 3\n",
    "Maximum Depth: 1\n",
    "First Feature: <geoDistance>\n",
    "```\n",
    "* depth 2\n",
    "```\n",
    "Accuracy: 0.627\n",
    "Size: 11\n",
    "Maximum Depth: 2\n",
    "First Feature: <geoDistance>\n",
    "```\n",
    "* depth 3\n",
    "```\n",
    "Accuracy: 0.627\n",
    "Size: 23\n",
    "Maximum Depth: 3\n",
    "First Feature: <geoDistance>\n",
    "```\n",
    "* depth 4\n",
    "```\n",
    "Accuracy: 0.627\n",
    "Size: 41\n",
    "Maximum Depth: 4\n",
    "First Feature: <geoDistance>\n",
    "```\n",
    "* depth 5\n",
    "```\n",
    "Accuracy: 0.627\n",
    "Size: 74\n",
    "Maximum Depth: 5\n",
    "First Feature: <geoDistance>\n",
    "```"
   ]
  },
  {
   "cell_type": "markdown",
   "metadata": {},
   "source": [
    "## volcanoes\n",
    "\n",
    "### gain\n",
    "* depth 1\n",
    "```\n",
    "Accuracy: 0.730\n",
    "Size: 56\n",
    "Maximum Depth: 1\n",
    "First Feature: <image_id>\n",
    "```\n",
    "* depth 2\n",
    "```\n",
    "Accuracy: 0.350\n",
    "Size: 164\n",
    "Maximum Depth: 2\n",
    "First Feature: <image_id>\n",
    "```\n",
    "* depth 3\n",
    "```\n",
    "Accuracy: 0.354\n",
    "Size: 298\n",
    "Maximum Depth: 3\n",
    "First Feature: <image_id>\n",
    "```\n",
    "* depth 4\n",
    "```\n",
    "Accuracy: 0.355\n",
    "Size: 440\n",
    "Maximum Depth: 4\n",
    "First Feature: <image_id>\n",
    "```\n",
    "* depth 5\n",
    "```\n",
    "Accuracy: 0.355\n",
    "Size: 570\n",
    "Maximum Depth: 5\n",
    "First Feature: <image_id>\n",
    "```\n",
    "\n",
    "### gain ratio\n",
    "* depth 1\n",
    "```\n",
    "Accuracy: 0.328\n",
    "Size: 3\n",
    "Maximum Depth: 1\n",
    "First Feature: <chip_ 3_ 9>\n",
    "```\n",
    "* depth 2\n",
    "```\n",
    "Accuracy: 0.328\n",
    "Size: 5\n",
    "Maximum Depth: 2\n",
    "First Feature: <chip_ 3_ 9>\n",
    "```\n",
    "* depth 3\n",
    "```\n",
    "Accuracy: 0.328\n",
    "Size: 7\n",
    "Maximum Depth: 3\n",
    "First Feature: <chip_ 3_ 9>\n",
    "```\n",
    "* depth 4\n",
    "```\n",
    "Accuracy: 0.328\n",
    "Size: 9\n",
    "Maximum Depth: 4\n",
    "First Feature: <chip_ 3_ 9>\n",
    "```\n",
    "* depth 5\n",
    "```\n",
    "Accuracy: 0.328\n",
    "Size: 11\n",
    "Maximum Depth: 5\n",
    "First Feature: <chip_ 3_ 9>\n",
    "```\n"
   ]
  },
  {
   "cell_type": "markdown",
   "metadata": {},
   "source": [
    "## voting\n",
    "\n",
    "### gain\n",
    "* depth 1\n",
    "```\n",
    "Accuracy: 0.989\n",
    "Size: 4\n",
    "Maximum Depth: 1\n",
    "First Feature: <Repealing-the-Job-Killing-Health-Care-Law-Act>\n",
    "```\n",
    "* depth 2\n",
    "```\n",
    "Accuracy: 0.993\n",
    "Size: 10\n",
    "Maximum Depth: 2\n",
    "First Feature: <Repealing-the-Job-Killing-Health-Care-Law-Act>\n",
    "```\n",
    "* depth 3\n",
    "```\n",
    "Accuracy: 0.993\n",
    "Size: 18\n",
    "Maximum Depth: 3\n",
    "First Feature: <Repealing-the-Job-Killing-Health-Care-Law-Act>\n",
    "```\n",
    "* depth 4\n",
    "```\n",
    "Accuracy: 0.995\n",
    "Size: 25\n",
    "Maximum Depth: 4\n",
    "First Feature: <Repealing-the-Job-Killing-Health-Care-Law-Act>\n",
    "```\n",
    "* depth 5\n",
    "```\n",
    "Accuracy: 0.995\n",
    "Size: 28\n",
    "Maximum Depth: 5\n",
    "First Feature: <Repealing-the-Job-Killing-Health-Care-Law-Act>\n",
    "```\n",
    "\n",
    "### gain ratio\n",
    "* depth 1\n",
    "```\n",
    "Accuracy: 0.989\n",
    "Size: 4\n",
    "Maximum Depth: 1\n",
    "First Feature: <Repealing-the-Job-Killing-Health-Care-Law-Act>\n",
    "```\n",
    "* depth 2\n",
    "```\n",
    "Accuracy: 0.993\n",
    "Size: 10\n",
    "Maximum Depth: 2\n",
    "First Feature: <Repealing-the-Job-Killing-Health-Care-Law-Act>\n",
    "```\n",
    "* depth 3\n",
    "```\n",
    "Accuracy: 0.993\n",
    "Size: 18\n",
    "Maximum Depth: 3\n",
    "First Feature: <Repealing-the-Job-Killing-Health-Care-Law-Act>\n",
    "```\n",
    "* depth 4\n",
    "```\n",
    "Accuracy: 0.995\n",
    "Size: 25\n",
    "Maximum Depth: 4\n",
    "First Feature: <Repealing-the-Job-Killing-Health-Care-Law-Act>\n",
    "```\n",
    "* depth 5\n",
    "```\n",
    "Accuracy: 0.995\n",
    "Size: 28\n",
    "Maximum Depth: 5\n",
    "First Feature: <Repealing-the-Job-Killing-Health-Care-Law-Act>\n",
    "```"
   ]
  },
  {
   "cell_type": "markdown",
   "metadata": {},
   "source": [
    "# (b)"
   ]
  },
  {
   "cell_type": "markdown",
   "metadata": {},
   "source": [
    "### spam\n",
    "**OS** is the first test for *gain* and **geoDistance** for *gain ratio*.\n",
    "### voting\n",
    "**Repealing-the-Job-Killing-Health-Care-Law-Act** is the first test for both *gain* and *gain ratio*.\n",
    "\n",
    "On both datasets, the first tests are sensible. Because the accuracy fluctuates little changing the maximum depth from $1$ to $2$, implying the these tests contain most information."
   ]
  },
  {
   "cell_type": "markdown",
   "metadata": {},
   "source": [
    "# (c)"
   ]
  },
  {
   "cell_type": "markdown",
   "metadata": {},
   "source": [
    "### spam\n"
   ]
  },
  {
   "cell_type": "code",
   "execution_count": 5,
   "metadata": {
    "scrolled": true
   },
   "outputs": [
    {
     "data": {
      "text/plain": [
       "<matplotlib.legend.Legend at 0x7f96cd03b1d0>"
      ]
     },
     "execution_count": 5,
     "metadata": {},
     "output_type": "execute_result"
    },
    {
     "data": {
      "image/png": "[encoded data removed]",
      "text/plain": [
       "<Figure size 432x288 with 1 Axes>"
      ]
     },
     "metadata": {
      "needs_background": "light"
     },
     "output_type": "display_data"
    }
   ],
   "source": [
    "import matplotlib.pyplot as plt\n",
    "gain = [0.663, 0.522, 0.376, 0.375, 0.375, 0.375]\n",
    "gain_ratio = [0.375, 0.375, 0.375, 0.375, 0.375, 0.375]\n",
    "x = [1, 2, 4, 8, 16, 32]\n",
    "plt.plot(x, gain, color=\"green\", label=\"gain\")\n",
    "plt.plot(x, gain_ratio, color=\"blue\", label=\"gain ratio\")\n",
    "plt.legend()"
   ]
  },
  {
   "cell_type": "markdown",
   "metadata": {},
   "source": [
    "### volcanoes"
   ]
  },
  {
   "cell_type": "code",
   "execution_count": 6,
   "metadata": {
    "scrolled": true
   },
   "outputs": [
    {
     "data": {
      "text/plain": [
       "[<matplotlib.lines.Line2D at 0x7f96cd0e46a0>]"
      ]
     },
     "execution_count": 6,
     "metadata": {},
     "output_type": "execute_result"
    },
    {
     "data": {
      "image/png": "[encoded data removed]",
      "text/plain": [
       "<Figure size 432x288 with 1 Axes>"
      ]
     },
     "metadata": {
      "needs_background": "light"
     },
     "output_type": "display_data"
    }
   ],
   "source": [
    "gain = [0.656, 0.653, 0.663, 0.663, 0.663, 0.663]\n",
    "gain_ratio = [0.671, 0.671, 0.671, 0.671, 0.671, 0.671]\n",
    "x = [1, 2, 4, 8, 16, 32]\n",
    "plt.plot(x, gain, color=\"green\", label=\"gain\")\n",
    "plt.plot(x, gain_ratio, color=\"blue\", label=\"gain ratio\")"
   ]
  },
  {
   "cell_type": "markdown",
   "metadata": {},
   "source": [
    "### analysis\n",
    "For spam, the data size is relatively larger. As the maximum depth increases, the accuracy is decreasing with gain criterion, caused by overfitting. We can find *gain ratio* criterion can alleviate the overfitting problem.\n",
    "\n",
    "For volcanoes, the accuracy is increasing approximately with the maximum depth increasing. Also, the *gain ratio* criterion is a lot stable.\n",
    "\n",
    "We may reach the following two conclusions.\n",
    "* *gain ratio* is more stable than *gain* and can alleviate the overfitting problem in a degree. But increasing the maximum depth has little effect on the performance. \n",
    "* increasing the maximum depth can improve the performance on relatively small dataset."
   ]
  },
  {
   "cell_type": "markdown",
   "metadata": {},
   "source": [
    "# (d)"
   ]
  },
  {
   "cell_type": "code",
   "execution_count": null,
   "metadata": {},
   "outputs": [],
   "source": []
  }
 ],
 "metadata": {
  "kernelspec": {
   "display_name": "Python 3",
   "language": "python",
   "name": "python3"
  },
  "language_info": {
   "codemirror_mode": {
    "name": "ipython",
    "version": 3
   },
   "file_extension": ".py",
   "mimetype": "text/x-python",
   "name": "python",
   "nbconvert_exporter": "python",
   "pygments_lexer": "ipython3",
   "version": "3.7.6"
  }
 },
 "nbformat": 4,
 "nbformat_minor": 2
}
