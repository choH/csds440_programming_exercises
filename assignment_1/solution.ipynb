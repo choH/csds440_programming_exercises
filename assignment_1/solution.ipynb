{
 "cells": [
  {
   "cell_type": "markdown",
   "metadata": {},
   "source": [
    "# Project 1 - Jupyter Notebook Report\n",
    "\n",
    "> Shaochen (Henry) ZHONG `sxz517`   \n",
    "> Mingyang TIE `mxt497`"
   ]
  },
  {
   "cell_type": "markdown",
   "metadata": {},
   "source": [
    "# (a)"
   ]
  },
  {
   "cell_type": "markdown",
   "metadata": {},
   "source": [
    "## spam\n",
    "\n",
    "### gain\n",
    "* depth 1\n",
    "```\n",
    "Accuracy: 0.664\n",
    "Size: 7\n",
    "Maximum Depth: 1\n",
    "First Feature: <OS>\n",
    "```\n",
    "* depth 2\n",
    "```\n",
    "Accuracy: 0.730\n",
    "Size: 19\n",
    "Maximum Depth: 2\n",
    "First Feature: <OS>\n",
    "```\n",
    "* depth 3\n",
    "```\n",
    "Accuracy: 0.696\n",
    "Size: 43\n",
    "Maximum Depth: 3\n",
    "First Feature: <OS>\n",
    "```\n",
    "* depth 4\n",
    "```\n",
    "Accuracy: 0.642\n",
    "Size: 87\n",
    "Maximum Depth: 4\n",
    "First Feature: <OS>\n",
    "```\n",
    "* depth 5\n",
    "```\n",
    "Accuracy: 0.641\n",
    "Size: 165\n",
    "Maximum Depth: 5\n",
    "First Feature: <OS>\n",
    "```\n",
    "\n",
    "### gain ratio\n",
    "* depth 1\n",
    "```\n",
    "Accuracy: 0.640\n",
    "Size: 3\n",
    "Maximum Depth: 1\n",
    "First Feature: <fngr_wss(K)>\n",
    "```\n",
    "* depth 2\n",
    "```\n",
    "Accuracy: 0.641\n",
    "Size: 7\n",
    "Maximum Depth: 2\n",
    "First Feature: <fngr_wss(K)>\n",
    "```\n",
    "* depth 3\n",
    "```\n",
    "Accuracy: 0.625\n",
    "Size: 15\n",
    "Maximum Depth: 3\n",
    "First Feature: <fngr_wss(K)>\n",
    "```\n",
    "* depth 4\n",
    "```\n",
    "Accuracy: 0.625\n",
    "Size: 29\n",
    "Maximum Depth: 4\n",
    "First Feature: <fngr_wss(K)>\n",
    "```\n",
    "* depth 5\n",
    "```\n",
    "Accuracy: 0.625\n",
    "Size: 53\n",
    "Maximum Depth: 5\n",
    "First Feature: <fngr_wss(K)>\n",
    "```"
   ]
  },
  {
   "cell_type": "markdown",
   "metadata": {},
   "source": [
    "## volcanoes\n",
    "\n",
    "### gain\n",
    "* depth 1\n",
    "```\n",
    "Accuracy: 0.730\n",
    "Size: 56\n",
    "Maximum Depth: 1\n",
    "First Feature: <image_id>\n",
    "```\n",
    "* depth 2\n",
    "```\n",
    "Accuracy: 0.378\n",
    "Size: 164\n",
    "Maximum Depth: 2\n",
    "First Feature: <image_id>\n",
    "```\n",
    "* depth 3\n",
    "```\n",
    "Accuracy: 0.403\n",
    "Size: 290\n",
    "Maximum Depth: 3\n",
    "First Feature: <image_id>\n",
    "```\n",
    "* depth 4\n",
    "```\n",
    "Accuracy: 0.398\n",
    "Size: 360\n",
    "Maximum Depth: 4\n",
    "First Feature: <image_id>\n",
    "```\n",
    "* depth 5\n",
    "```\n",
    "Accuracy: 0.397\n",
    "Size: 392\n",
    "Maximum Depth: 5\n",
    "First Feature: <image_id>\n",
    "```\n",
    "\n",
    "### gain ratio\n",
    "* depth 1\n",
    "```\n",
    "Accuracy: 0.389\n",
    "Size: 3\n",
    "Maximum Depth: 1\n",
    "First Feature: <chip_11_11>\n",
    "```\n",
    "* depth 2\n",
    "```\n",
    "Accuracy: 0.395\n",
    "Size: 7\n",
    "Maximum Depth: 2\n",
    "First Feature: <chip_11_11>\n",
    "```\n",
    "* depth 3\n",
    "```\n",
    "Accuracy: 0.386\n",
    "Size: 11\n",
    "Maximum Depth: 3\n",
    "First Feature: <chip_11_11>\n",
    "```\n",
    "* depth 4\n",
    "```\n",
    "Accuracy: 0.471\n",
    "Size: 17\n",
    "Maximum Depth: 4\n",
    "First Feature: <chip_11_11>\n",
    "```\n",
    "* depth 5\n",
    "```\n",
    "Accuracy: 0.472\n",
    "Size: 25\n",
    "Maximum Depth: 5\n",
    "First Feature: <chip_11_11>\n",
    "```\n"
   ]
  },
  {
   "cell_type": "markdown",
   "metadata": {},
   "source": [
    "## voting\n",
    "\n",
    "### gain\n",
    "* depth 1\n",
    "```\n",
    "Accuracy: 0.989\n",
    "Size: 4\n",
    "Maximum Depth: 1\n",
    "First Feature: <Repealing-the-Job-Killing-Health-Care-Law-Act>\n",
    "```\n",
    "* depth 2\n",
    "```\n",
    "Accuracy: 0.993\n",
    "Size: 10\n",
    "Maximum Depth: 2\n",
    "First Feature: <Repealing-the-Job-Killing-Health-Care-Law-Act>\n",
    "```\n",
    "* depth 3\n",
    "```\n",
    "Accuracy: 0.993\n",
    "Size: 18\n",
    "Maximum Depth: 3\n",
    "First Feature: <Repealing-the-Job-Killing-Health-Care-Law-Act>\n",
    "```\n",
    "* depth 4\n",
    "```\n",
    "Accuracy: 0.995\n",
    "Size: 25\n",
    "Maximum Depth: 4\n",
    "First Feature: <Repealing-the-Job-Killing-Health-Care-Law-Act>\n",
    "```\n",
    "* depth 5\n",
    "```\n",
    "Accuracy: 0.995\n",
    "Size: 28\n",
    "Maximum Depth: 5\n",
    "First Feature: <Repealing-the-Job-Killing-Health-Care-Law-Act>\n",
    "```\n",
    "\n",
    "### gain ratio\n",
    "* depth 1\n",
    "```\n",
    "Accuracy: 0.989\n",
    "Size: 4\n",
    "Maximum Depth: 1\n",
    "First Feature: <Repealing-the-Job-Killing-Health-Care-Law-Act>\n",
    "```\n",
    "* depth 2\n",
    "```\n",
    "Accuracy: 0.993\n",
    "Size: 10\n",
    "Maximum Depth: 2\n",
    "First Feature: <Repealing-the-Job-Killing-Health-Care-Law-Act>\n",
    "```\n",
    "* depth 3\n",
    "```\n",
    "Accuracy: 0.993\n",
    "Size: 18\n",
    "Maximum Depth: 3\n",
    "First Feature: <Repealing-the-Job-Killing-Health-Care-Law-Act>\n",
    "```\n",
    "* depth 4\n",
    "```\n",
    "Accuracy: 0.995\n",
    "Size: 25\n",
    "Maximum Depth: 4\n",
    "First Feature: <Repealing-the-Job-Killing-Health-Care-Law-Act>\n",
    "```\n",
    "* depth 5\n",
    "```\n",
    "Accuracy: 0.995\n",
    "Size: 28\n",
    "Maximum Depth: 5\n",
    "First Feature: <Repealing-the-Job-Killing-Health-Care-Law-Act>\n",
    "```"
   ]
  },
  {
   "cell_type": "markdown",
   "metadata": {},
   "source": [
    "# (b)"
   ]
  },
  {
   "cell_type": "markdown",
   "metadata": {},
   "source": [
    "### spam\n",
    "**OS** is the first test for *gain* and **fngr_wss(K)** for *gain ratio*.\n",
    "### voting\n",
    "**Repealing-the-Job-Killing-Health-Care-Law-Act** is the first test for both *gain* and *gain ratio*.\n",
    "\n",
    "On both datasets, the first test is sensible. \n",
    "* Many spams are sent for advertising and sent from some operating systems for developers. \n",
    "* Jobs, health and law are of vital importance for voting.\n",
    "\n",
    "These imply that these two tests contain most information and therefore likely to classify more exmaples."
   ]
  },
  {
   "cell_type": "markdown",
   "metadata": {},
   "source": [
    "# (c)"
   ]
  },
  {
   "cell_type": "markdown",
   "metadata": {},
   "source": [
    "### spam\n"
   ]
  },
  {
   "cell_type": "code",
   "execution_count": 8,
   "metadata": {},
   "outputs": [
    {
     "data": {
      "text/plain": [
       "<matplotlib.legend.Legend at 0x7f96cd0b6b70>"
      ]
     },
     "execution_count": 8,
     "metadata": {},
     "output_type": "execute_result"
    },
    {
     "data": {
      "image/png": "[encoded data removed]",
      "text/plain": [
       "<Figure size 432x288 with 1 Axes>"
      ]
     },
     "metadata": {
      "needs_background": "light"
     },
     "output_type": "display_data"
    }
   ],
   "source": [
    "import matplotlib.pyplot as plt\n",
    "gain = [0.614, 0.390, 0.384, 0.375, 0.375, 0.375]\n",
    "gain_ratio = [0.402, 0.375, 0.375, 0.375, 0.375, 0.375]\n",
    "x = [1, 2, 4, 8, 16, 32]\n",
    "plt.plot(x, gain, color=\"green\", label=\"gain\")\n",
    "plt.plot(x, gain_ratio, color=\"blue\", label=\"gain ratio\")\n",
    "plt.legend()"
   ]
  },
  {
   "cell_type": "markdown",
   "metadata": {},
   "source": [
    "### volcanoes"
   ]
  },
  {
   "cell_type": "code",
   "execution_count": 9,
   "metadata": {},
   "outputs": [
    {
     "data": {
      "text/plain": [
       "[<matplotlib.lines.Line2D at 0x7f96cd27a438>]"
      ]
     },
     "execution_count": 9,
     "metadata": {},
     "output_type": "execute_result"
    },
    {
     "data": {
      "image/png": "[encoded data removed]",
      "text/plain": [
       "<Figure size 432x288 with 1 Axes>"
      ]
     },
     "metadata": {
      "needs_background": "light"
     },
     "output_type": "display_data"
    }
   ],
   "source": [
    "gain = [0.640, 0.612, 0.640, 0.648, 0.648, 0.648]\n",
    "gain_ratio = [0.673, 0.673, 0.673, 0.673, 0.673, 0.673]\n",
    "x = [1, 2, 4, 8, 16, 32]\n",
    "plt.plot(x, gain, color=\"green\", label=\"gain\")\n",
    "plt.plot(x, gain_ratio, color=\"blue\", label=\"gain ratio\")"
   ]
  },
  {
   "cell_type": "markdown",
   "metadata": {},
   "source": [
    "### analysis\n",
    "For spam, the data size is relatively larger. As the maximum depth increases, the accuracy is decreasing with both gain and gain ratio criterions, caused by overfitting.\n",
    "\n",
    "For volcanoes, the accuracy is increasing approximately with the maximum depth increasing. Also, the *gain ratio* criterion is a lot more stable.\n",
    "\n",
    "We can get following two conclusions.\n",
    "* *gain ratio* is more stable than *gain* and can alleviate the overfitting problem in a degree. But increasing the maximum depth has little effect on the performance. \n",
    "* increasing the maximum depth can improve the performance on relatively small dataset."
   ]
  },
  {
   "cell_type": "markdown",
   "metadata": {},
   "source": [
    "# (d)"
   ]
  },
  {
   "cell_type": "markdown",
   "metadata": {},
   "source": [
    "For this problem, we implement **CART** algorithm, which utilizes a split criterion called *gini index*. Then, we make a comparison of all three split criterions.\n",
    "\n",
    "Similarly, we run cross validation on *spam* and *volcanoes*. The result is following."
   ]
  },
  {
   "cell_type": "markdown",
   "metadata": {},
   "source": [
    "### spam"
   ]
  },
  {
   "cell_type": "code",
   "execution_count": 11,
   "metadata": {},
   "outputs": [
    {
     "data": {
      "text/plain": [
       "<matplotlib.legend.Legend at 0x7f96cd404d68>"
      ]
     },
     "execution_count": 11,
     "metadata": {},
     "output_type": "execute_result"
    },
    {
     "data": {
      "image/png": "[encoded data removed]",
      "text/plain": [
       "<Figure size 432x288 with 1 Axes>"
      ]
     },
     "metadata": {
      "needs_background": "light"
     },
     "output_type": "display_data"
    }
   ],
   "source": [
    "gini = [0.375, 0.367, 0.375, 0.375, 0.375, 0.375]\n",
    "x = [1, 2, 4, 8, 16, 32]\n",
    "plt.plot(x, gini, color=\"red\", label=\"gini\")\n",
    "plt.legend()"
   ]
  },
  {
   "cell_type": "markdown",
   "metadata": {},
   "source": [
    "### volcanoes"
   ]
  },
  {
   "cell_type": "code",
   "execution_count": 12,
   "metadata": {},
   "outputs": [
    {
     "data": {
      "text/plain": [
       "<matplotlib.legend.Legend at 0x7f96cd4dcb00>"
      ]
     },
     "execution_count": 12,
     "metadata": {},
     "output_type": "execute_result"
    },
    {
     "data": {
      "image/png": "[encoded data removed]",
      "text/plain": [
       "<Figure size 432x288 with 1 Axes>"
      ]
     },
     "metadata": {
      "needs_background": "light"
     },
     "output_type": "display_data"
    }
   ],
   "source": [
    "gini = [0.673, 0.665, 0.670, 0.673, 0.673, 0.673]\n",
    "x = [1, 2, 4, 8, 16, 32]\n",
    "plt.plot(x, gini, color=\"red\", label=\"gini\")\n",
    "plt.legend()"
   ]
  },
  {
   "cell_type": "markdown",
   "metadata": {},
   "source": [
    "Compared to the results of gain and gain ratio, we can get following conclusions:\n",
    "* *gini index* may get the model rid of the overfitting.\n",
    "* On large dataset, *gain* may get a better performance.\n",
    "* *gain ratio* can alleviate the problem of bias to more branches."
   ]
  },
  {
   "cell_type": "markdown",
   "metadata": {},
   "source": [
    "Also, we run **CART** on all three datasets and report the train accuracy.\n",
    "\n",
    "### spam\n",
    "* depth 1\n",
    "```\n",
    "Accuracy: 0.643\n",
    "Size: 3\n",
    "Maximum Depth: 1\n",
    "First Feature: <geoDistance>\n",
    "```\n",
    "* depth 2\n",
    "```\n",
    "Accuracy: 0.625\n",
    "Size: 7\n",
    "Maximum Depth: 2\n",
    "First Feature: <geoDistance>\n",
    "```\n",
    "* depth 3\n",
    "```\n",
    "Accuracy: 0.625\n",
    "Size: 15\n",
    "Maximum Depth: 3\n",
    "First Feature: <geoDistance>\n",
    "```\n",
    "* depth 4\n",
    "```\n",
    "Accuracy: 0.630\n",
    "Size: 31\n",
    "Maximum Depth: 4\n",
    "First Feature: <geoDistance>\n",
    "```\n",
    "* depth 5\n",
    "```\n",
    "Accuracy: 0.626\n",
    "Size: 63\n",
    "Maximum Depth: 5\n",
    "First Feature: <geoDistance>\n",
    "```\n",
    "### volcanoes\n",
    "* depth 1\n",
    "```\n",
    "Accuracy: 0.360\n",
    "Size: 3\n",
    "Maximum Depth: 1\n",
    "First Feature: <chip_ 1_ 1>\n",
    "```\n",
    "* depth 2\n",
    "```\n",
    "Accuracy: 0.336\n",
    "Size: 7\n",
    "Maximum Depth: 2\n",
    "First Feature: <chip_ 1_ 1>\n",
    "```\n",
    "* depth 3\n",
    "```\n",
    "Accuracy: 0.328\n",
    "Size: 15\n",
    "Maximum Depth: 3\n",
    "First Feature: <chip_ 1_ 1>\n",
    "```\n",
    "* depth 4\n",
    "```\n",
    "Accuracy: 0.328\n",
    "Size: 31\n",
    "Maximum Depth: 4\n",
    "First Feature: <chip_ 1_ 1>\n",
    "```\n",
    "* depth 5\n",
    "```\n",
    "Accuracy: 0.331\n",
    "Size: 63\n",
    "Maximum Depth: 5\n",
    "First Feature: <chip_ 1_ 1>\n",
    "```\n",
    "### voting\n",
    "* depth 1\n",
    "```\n",
    "Accuracy: 0.920\n",
    "Size: 4\n",
    "Maximum Depth: 1\n",
    "First Feature: <Medicare-Decisions-Accountability-Act-of-2012>\n",
    "```\n",
    "* depth 2\n",
    "```\n",
    "Accuracy: 0.927\n",
    "Size: 13\n",
    "Maximum Depth: 2\n",
    "First Feature: <Medicare-Decisions-Accountability-Act-of-2012>\n",
    "```\n",
    "* depth 3\n",
    "```\n",
    "Accuracy: 0.948\n",
    "Size: 34\n",
    "Maximum Depth: 3\n",
    "First Feature: <Medicare-Decisions-Accountability-Act-of-2012>\n",
    "```\n",
    "* depth 4\n",
    "```\n",
    "Accuracy: 0.952\n",
    "Size: 58\n",
    "Maximum Depth: 4\n",
    "First Feature: <Medicare-Decisions-Accountability-Act-of-2012>\n",
    "```\n",
    "* depth 5\n",
    "```\n",
    "Accuracy: 0.961\n",
    "Size: 79\n",
    "Maximum Depth: 5\n",
    "First Feature: <Medicare-Decisions-Accountability-Act-of-2012>\n",
    "```"
   ]
  },
  {
   "cell_type": "markdown",
   "metadata": {},
   "source": [
    "We can find the fitting ability of *gini index* is worse than *gain* and *gain ratio*."
   ]
  }
 ],
 "metadata": {
  "kernelspec": {
   "display_name": "Python 3",
   "language": "python",
   "name": "python3"
  },
  "language_info": {
   "codemirror_mode": {
    "name": "ipython",
    "version": 3
   },
   "file_extension": ".py",
   "mimetype": "text/x-python",
   "name": "python",
   "nbconvert_exporter": "python",
   "pygments_lexer": "ipython3",
   "version": "3.7.6"
  }
 },
 "nbformat": 4,
 "nbformat_minor": 2
}
